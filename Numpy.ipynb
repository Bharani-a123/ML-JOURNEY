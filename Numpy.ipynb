{
  "nbformat": 4,
  "nbformat_minor": 0,
  "metadata": {
    "colab": {
      "provenance": [],
      "authorship_tag": "ABX9TyPuIgG3MFAk0YMpXEu4AVsT",
      "include_colab_link": true
    },
    "kernelspec": {
      "name": "python3",
      "display_name": "Python 3"
    },
    "language_info": {
      "name": "python"
    }
  },
  "cells": [
    {
      "cell_type": "markdown",
      "metadata": {
        "id": "view-in-github",
        "colab_type": "text"
      },
      "source": [
        "<a href=\"https://colab.research.google.com/github/Bharani-a123/ML-JOURNEY/blob/main/Numpy.ipynb\" target=\"_parent\"><img src=\"https://colab.research.google.com/assets/colab-badge.svg\" alt=\"Open In Colab\"/></a>"
      ]
    },
    {
      "cell_type": "code",
      "execution_count": 2,
      "metadata": {
        "id": "gQOo-4h3F-kq"
      },
      "outputs": [],
      "source": [
        "import numpy as np"
      ]
    },
    {
      "cell_type": "code",
      "source": [
        "array = [1,2,3]\n",
        "a=np.array(array)\n",
        "print(a)"
      ],
      "metadata": {
        "colab": {
          "base_uri": "https://localhost:8080/"
        },
        "id": "hMlJNAecGWJ_",
        "outputId": "8eac85a9-7e6d-43b7-bf08-5257fdc25c52"
      },
      "execution_count": null,
      "outputs": [
        {
          "output_type": "stream",
          "name": "stdout",
          "text": [
            "[1 2 3]\n"
          ]
        }
      ]
    },
    {
      "cell_type": "markdown",
      "source": [
        "Functions to create numpy\n"
      ],
      "metadata": {
        "id": "NXOySjTmGlM7"
      }
    },
    {
      "cell_type": "code",
      "source": [
        "a=np.zeros((2,3))\n",
        "print(a)\n",
        "b=np.ones((2,3))\n",
        "print(b)\n",
        "c=np.full((5,5),8)\n",
        "print(c)\n",
        "d=np.arange(1,15,1)\n",
        "print(d)\n",
        "e=np.linspace(1,50,90)\n",
        "print(e)"
      ],
      "metadata": {
        "colab": {
          "base_uri": "https://localhost:8080/"
        },
        "id": "IKsoP0tkGds-",
        "outputId": "a9a1c397-bc95-4f92-e90a-e8e3c0b94325"
      },
      "execution_count": null,
      "outputs": [
        {
          "output_type": "stream",
          "name": "stdout",
          "text": [
            "[[0. 0. 0.]\n",
            " [0. 0. 0.]]\n",
            "[[1. 1. 1.]\n",
            " [1. 1. 1.]]\n",
            "[[8 8 8 8 8]\n",
            " [8 8 8 8 8]\n",
            " [8 8 8 8 8]\n",
            " [8 8 8 8 8]\n",
            " [8 8 8 8 8]]\n",
            "[ 1  2  3  4  5  6  7  8  9 10 11 12 13 14]\n",
            "[ 1.          1.5505618   2.1011236   2.65168539  3.20224719  3.75280899\n",
            "  4.30337079  4.85393258  5.40449438  5.95505618  6.50561798  7.05617978\n",
            "  7.60674157  8.15730337  8.70786517  9.25842697  9.80898876 10.35955056\n",
            " 10.91011236 11.46067416 12.01123596 12.56179775 13.11235955 13.66292135\n",
            " 14.21348315 14.76404494 15.31460674 15.86516854 16.41573034 16.96629213\n",
            " 17.51685393 18.06741573 18.61797753 19.16853933 19.71910112 20.26966292\n",
            " 20.82022472 21.37078652 21.92134831 22.47191011 23.02247191 23.57303371\n",
            " 24.12359551 24.6741573  25.2247191  25.7752809  26.3258427  26.87640449\n",
            " 27.42696629 27.97752809 28.52808989 29.07865169 29.62921348 30.17977528\n",
            " 30.73033708 31.28089888 31.83146067 32.38202247 32.93258427 33.48314607\n",
            " 34.03370787 34.58426966 35.13483146 35.68539326 36.23595506 36.78651685\n",
            " 37.33707865 37.88764045 38.43820225 38.98876404 39.53932584 40.08988764\n",
            " 40.64044944 41.19101124 41.74157303 42.29213483 42.84269663 43.39325843\n",
            " 43.94382022 44.49438202 45.04494382 45.59550562 46.14606742 46.69662921\n",
            " 47.24719101 47.79775281 48.34831461 48.8988764  49.4494382  50.        ]\n"
          ]
        }
      ]
    },
    {
      "cell_type": "code",
      "source": [
        "w=np.random.rand(2,2)\n",
        "print(w)\n",
        "e=np.random.randint(1,34,4)\n",
        "print(e)"
      ],
      "metadata": {
        "colab": {
          "base_uri": "https://localhost:8080/"
        },
        "id": "koce6h82HWZt",
        "outputId": "6bfe64d4-5274-4dc8-8cf9-6ac0ed28696c"
      },
      "execution_count": null,
      "outputs": [
        {
          "output_type": "stream",
          "name": "stdout",
          "text": [
            "[[0.00725447 0.19093253]\n",
            " [0.07771426 0.01073903]]\n",
            "[29 14 23  2]\n"
          ]
        }
      ]
    },
    {
      "cell_type": "code",
      "source": [
        "j=np.eye(7)\n",
        "print(j)\n",
        "k=np.diag([22,33,44])\n",
        "print(k)"
      ],
      "metadata": {
        "colab": {
          "base_uri": "https://localhost:8080/"
        },
        "id": "EDppYhr5H65b",
        "outputId": "7fe53866-3b1b-4e5a-8302-c95ec2a13c36"
      },
      "execution_count": null,
      "outputs": [
        {
          "output_type": "stream",
          "name": "stdout",
          "text": [
            "[[1. 0. 0. 0. 0. 0. 0.]\n",
            " [0. 1. 0. 0. 0. 0. 0.]\n",
            " [0. 0. 1. 0. 0. 0. 0.]\n",
            " [0. 0. 0. 1. 0. 0. 0.]\n",
            " [0. 0. 0. 0. 1. 0. 0.]\n",
            " [0. 0. 0. 0. 0. 1. 0.]\n",
            " [0. 0. 0. 0. 0. 0. 1.]]\n",
            "[[22  0  0]\n",
            " [ 0 33  0]\n",
            " [ 0  0 44]]\n"
          ]
        }
      ]
    },
    {
      "cell_type": "markdown",
      "source": [
        "## **Numpy Indexing**"
      ],
      "metadata": {
        "id": "5OfkR_hBIpvU"
      }
    },
    {
      "cell_type": "code",
      "source": [
        "import numpy as np\n",
        "\n",
        "arr = np.array([10, 20, 30, 40, 50])\n",
        "\n",
        "print(arr[0])"
      ],
      "metadata": {
        "colab": {
          "base_uri": "https://localhost:8080/"
        },
        "id": "4jM0uShRIpOb",
        "outputId": "3252950e-6e9a-4ca3-96a4-10e890a18439"
      },
      "execution_count": null,
      "outputs": [
        {
          "output_type": "stream",
          "name": "stdout",
          "text": [
            "10\n"
          ]
        }
      ]
    },
    {
      "cell_type": "code",
      "source": [
        "matrix = np.array([[1, 2, 3], [4, 5, 6], [7, 8, 9]])\n",
        "print(matrix[1,2])"
      ],
      "metadata": {
        "colab": {
          "base_uri": "https://localhost:8080/"
        },
        "id": "_jhQJOCOIR8Y",
        "outputId": "64709f6d-162e-493a-cfea-13399a21bfca"
      },
      "execution_count": null,
      "outputs": [
        {
          "output_type": "stream",
          "name": "stdout",
          "text": [
            "6\n"
          ]
        }
      ]
    },
    {
      "cell_type": "code",
      "source": [
        "cube = np.array([[[1, 2, 3],\n",
        "                  [4, 5, 6],\n",
        "                  [7, 8, 9]],\n",
        "\n",
        "                 [[10, 11, 12],\n",
        "                  [13, 14, 15],\n",
        "                  [16, 17, 18]]])\n",
        "\n",
        "print(cube[0,2,0])"
      ],
      "metadata": {
        "colab": {
          "base_uri": "https://localhost:8080/"
        },
        "id": "LyUlJxgTJGdg",
        "outputId": "f11b91d3-09ce-469a-eadf-95366f0bd101"
      },
      "execution_count": null,
      "outputs": [
        {
          "output_type": "stream",
          "name": "stdout",
          "text": [
            "7\n"
          ]
        }
      ]
    },
    {
      "cell_type": "code",
      "source": [
        "#acessing particular rows in 3D array\n",
        "u=cube[:,[1]]\n",
        "print(u)"
      ],
      "metadata": {
        "colab": {
          "base_uri": "https://localhost:8080/"
        },
        "id": "gxgW-e2SJTm9",
        "outputId": "83334a0b-d8a2-4cfc-d314-f918dbd103d0"
      },
      "execution_count": null,
      "outputs": [
        {
          "output_type": "stream",
          "name": "stdout",
          "text": [
            "[[[ 4  5  6]]\n",
            "\n",
            " [[13 14 15]]]\n"
          ]
        }
      ]
    },
    {
      "cell_type": "code",
      "source": [
        "i=cube[:,[0,2]]\n",
        "print(i)"
      ],
      "metadata": {
        "colab": {
          "base_uri": "https://localhost:8080/"
        },
        "id": "askzj9t6Kyut",
        "outputId": "337560f8-3d7a-4ddf-f232-05a07b9fb88f"
      },
      "execution_count": null,
      "outputs": [
        {
          "output_type": "stream",
          "name": "stdout",
          "text": [
            "[[[ 1  2  3]\n",
            "  [ 7  8  9]]\n",
            "\n",
            " [[10 11 12]\n",
            "  [16 17 18]]]\n"
          ]
        }
      ]
    },
    {
      "cell_type": "markdown",
      "source": [
        "**RESHAPING**"
      ],
      "metadata": {
        "id": "XubYCm-XLzC5"
      }
    },
    {
      "cell_type": "code",
      "source": [
        "array = np.array([1, 2, 3, 4, 5, 6, 7, 8, 9, 10, 11, 12, 13, 14, 15, 16])\n",
        "print(array.reshape(4,4))#here (4=row,4=column) for 1d to 2d;"
      ],
      "metadata": {
        "colab": {
          "base_uri": "https://localhost:8080/"
        },
        "id": "WJeNIH0KK94y",
        "outputId": "6c88d867-930e-4fcd-bb2d-eb74769e0560"
      },
      "execution_count": null,
      "outputs": [
        {
          "output_type": "stream",
          "name": "stdout",
          "text": [
            "[[ 1  2  3  4]\n",
            " [ 5  6  7  8]\n",
            " [ 9 10 11 12]\n",
            " [13 14 15 16]]\n"
          ]
        }
      ]
    },
    {
      "cell_type": "code",
      "source": [
        "print(array.reshape(2,2,4))  #1d to 2d (2= depth,2=row,2=cloumn)"
      ],
      "metadata": {
        "colab": {
          "base_uri": "https://localhost:8080/"
        },
        "id": "YToZzFxPMA8q",
        "outputId": "57593f57-8cb1-469f-94b4-9ae849d25a34"
      },
      "execution_count": null,
      "outputs": [
        {
          "output_type": "stream",
          "name": "stdout",
          "text": [
            "[[[ 1  2  3  4]\n",
            "  [ 5  6  7  8]]\n",
            "\n",
            " [[ 9 10 11 12]\n",
            "  [13 14 15 16]]]\n"
          ]
        }
      ]
    },
    {
      "cell_type": "markdown",
      "source": [
        "# **RESIZE**"
      ],
      "metadata": {
        "id": "k_fRkSObNwPB"
      }
    },
    {
      "cell_type": "code",
      "source": [
        "\"\"\"Difference between Reshape\n",
        " and resize or reshape is just temproray while resize is for Permanent\n",
        "    while reshape will perform only if is is mathematically possible to reshape\n",
        "    while resize changes permanently and replace extra sizes with zero \"\"\""
      ],
      "metadata": {
        "colab": {
          "base_uri": "https://localhost:8080/",
          "height": 53
        },
        "id": "dU65n-G1NFI-",
        "outputId": "793471c9-bf57-47ce-c543-2bc5ee5e5225"
      },
      "execution_count": null,
      "outputs": [
        {
          "output_type": "execute_result",
          "data": {
            "text/plain": [
              "'Difference between Reshape\\n and resize or reshape is just temproray while resize is for Permanent\\n    while reshape will perform only if is is mathematically possible to reshape \\n    while resize changes permanently and replace extra sizes with zero '"
            ],
            "application/vnd.google.colaboratory.intrinsic+json": {
              "type": "string"
            }
          },
          "metadata": {},
          "execution_count": 26
        }
      ]
    },
    {
      "cell_type": "code",
      "source": [
        "gfg = np.array([1, 2, 3, 4, 5, 6])\n",
        "gfg.resize(3,4)\n",
        "print(gfg)"
      ],
      "metadata": {
        "colab": {
          "base_uri": "https://localhost:8080/"
        },
        "id": "5ZAGAFHpOujk",
        "outputId": "d9f040b4-c7bd-477a-9a71-fffab72bd573"
      },
      "execution_count": null,
      "outputs": [
        {
          "output_type": "stream",
          "name": "stdout",
          "text": [
            "[[1 2 3 4]\n",
            " [5 6 0 0]\n",
            " [0 0 0 0]]\n"
          ]
        }
      ]
    },
    {
      "cell_type": "markdown",
      "source": [
        "# **STACKING**"
      ],
      "metadata": {
        "id": "k3f1V7grwml0"
      }
    },
    {
      "cell_type": "code",
      "source": [
        "a = np.array([1, 2, 3])\n",
        "b = np.array([4, 5, 6])  # 1D Stack 1D gives 2D else like 2D TO 2D gives 3d so on\n",
        "print(np.stack((a,b),axis=0))"
      ],
      "metadata": {
        "id": "gdVotVnoO44-",
        "colab": {
          "base_uri": "https://localhost:8080/"
        },
        "outputId": "89b9a682-980d-49eb-bf0b-0c2746d47071"
      },
      "execution_count": 7,
      "outputs": [
        {
          "output_type": "stream",
          "name": "stdout",
          "text": [
            "[[1 2 3]\n",
            " [4 5 6]]\n"
          ]
        }
      ]
    },
    {
      "cell_type": "code",
      "source": [
        "a = np.array([1, 2, 3])\n",
        "b = np.array([4, 5, 6])\n",
        "print(np.stack((a,b),axis=1))"
      ],
      "metadata": {
        "colab": {
          "base_uri": "https://localhost:8080/"
        },
        "id": "3x1Z6lucw1y4",
        "outputId": "937fb815-8c13-4ca5-9a72-27ee99374ae3"
      },
      "execution_count": 8,
      "outputs": [
        {
          "output_type": "stream",
          "name": "stdout",
          "text": [
            "[[1 4]\n",
            " [2 5]\n",
            " [3 6]]\n"
          ]
        }
      ]
    },
    {
      "cell_type": "code",
      "source": [
        "#2 input 3d arrays\n",
        "\n",
        "m=np.array([[[1,2,3],\n",
        "            [4,5,6],\n",
        "            [7,8,9]],\n",
        "\n",
        "            [[10,11,12],\n",
        "            [13,14,15],\n",
        "            [16,17,18]]])\n",
        "\n",
        "n=np.array([[[51,52,53],\n",
        "            [54,55,56],\n",
        "            [57,58,59]],\n",
        "\n",
        "            [[110,111,112],\n",
        "            [113,114,115],\n",
        "            [116,117,118]]])\n",
        "\n",
        "# stacking\n",
        "np.stack((m,n),axis=3)\n"
      ],
      "metadata": {
        "colab": {
          "base_uri": "https://localhost:8080/"
        },
        "id": "jRSJS6Z-xWIR",
        "outputId": "97124d44-3759-4e3e-bcc1-141eb08e8c2c"
      },
      "execution_count": 11,
      "outputs": [
        {
          "output_type": "execute_result",
          "data": {
            "text/plain": [
              "array([[[[  1,  51],\n",
              "         [  2,  52],\n",
              "         [  3,  53]],\n",
              "\n",
              "        [[  4,  54],\n",
              "         [  5,  55],\n",
              "         [  6,  56]],\n",
              "\n",
              "        [[  7,  57],\n",
              "         [  8,  58],\n",
              "         [  9,  59]]],\n",
              "\n",
              "\n",
              "       [[[ 10, 110],\n",
              "         [ 11, 111],\n",
              "         [ 12, 112]],\n",
              "\n",
              "        [[ 13, 113],\n",
              "         [ 14, 114],\n",
              "         [ 15, 115]],\n",
              "\n",
              "        [[ 16, 116],\n",
              "         [ 17, 117],\n",
              "         [ 18, 118]]]])"
            ]
          },
          "metadata": {},
          "execution_count": 11
        }
      ]
    },
    {
      "cell_type": "code",
      "source": [],
      "metadata": {
        "id": "hXTxNi6yyJ3h"
      },
      "execution_count": null,
      "outputs": []
    }
  ]
}